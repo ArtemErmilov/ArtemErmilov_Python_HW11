{
 "cells": [
  {
   "cell_type": "markdown",
   "metadata": {},
   "source": [
    "Дана функция **f(x) = (sin(x)/2 + cos(x)/2)^2 * sin(x)**\n",
    "1. Определить корни\n",
    "2. Найти интервалы, на которых функция возрастает\n",
    "3. Найти интервалы, на которых функция убывает\n",
    "4. Построить график (период)\n",
    "5. Вычислить вершину\n",
    "6. Определить промежутки, на котором f > 0\n",
    "7. Определить промежутки, на котором f < 0\n"
   ]
  },
  {
   "cell_type": "code",
   "execution_count": 7,
   "metadata": {},
   "outputs": [],
   "source": [
    "from sympy.abc import x\n",
    "from sympy import *\n",
    "\n",
    "from sympy.calculus.util import maximum"
   ]
  },
  {
   "cell_type": "code",
   "execution_count": 10,
   "metadata": {},
   "outputs": [
    {
     "data": {
      "text/latex": [
       "$\\displaystyle \\frac{\\sin{\\left(x \\right)} \\sin^{2}{\\left(x + \\frac{\\pi}{4} \\right)}}{2}$"
      ],
      "text/plain": [
       "sin(x)*sin(x + pi/4)**2/2"
      ]
     },
     "execution_count": 10,
     "metadata": {},
     "output_type": "execute_result"
    }
   ],
   "source": [
    "x = Symbol('x',real =True)\n",
    "y = simplify((sin(x)/2 + cos(x)/2)**2 * sin(x))\n"
   ]
  },
  {
   "cell_type": "markdown",
   "metadata": {},
   "source": [
    "***1. Определить корни***\n"
   ]
  },
  {
   "cell_type": "code",
   "execution_count": 16,
   "metadata": {},
   "outputs": [
    {
     "data": {
      "text/latex": [
       "$\\displaystyle \\left\\{2 n \\pi\\; \\middle|\\; n \\in \\mathbb{Z}\\right\\} \\cup \\left\\{2 n \\pi + \\pi\\; \\middle|\\; n \\in \\mathbb{Z}\\right\\} \\cup \\left\\{2 n \\pi + \\frac{3 \\pi}{4}\\; \\middle|\\; n \\in \\mathbb{Z}\\right\\} \\cup \\left\\{2 n \\pi + \\frac{7 \\pi}{4}\\; \\middle|\\; n \\in \\mathbb{Z}\\right\\}$"
      ],
      "text/plain": [
       "Union(ImageSet(Lambda(_n, 2*_n*pi + 3*pi/4), Integers), ImageSet(Lambda(_n, 2*_n*pi + 7*pi/4), Integers), ImageSet(Lambda(_n, 2*_n*pi + pi), Integers), ImageSet(Lambda(_n, 2*_n*pi), Integers))"
      ]
     },
     "execution_count": 16,
     "metadata": {},
     "output_type": "execute_result"
    }
   ],
   "source": [
    "solveset(y,x)"
   ]
  },
  {
   "cell_type": "markdown",
   "metadata": {},
   "source": [
    "***2. Найти интервалы, на которых функция возрастает***\n"
   ]
  },
  {
   "cell_type": "code",
   "execution_count": 19,
   "metadata": {},
   "outputs": [
    {
     "name": "stdout",
     "output_type": "stream",
     "text": [
      "Функция возрастает на отрезке: [-atan(9/8 - sqrt(17)/8)/2 + 2*pi;atan(1/tan(atan(sqrt(17)/8 + 9/8)/2))]\n",
      "Функция возрастает на отрезке: [3*pi/4;pi - atan(9/8 - sqrt(17)/8)/2]\n",
      "Функция возрастает на отрезке: [-atan(sqrt(17)/8 + 9/8)/2 + 3*pi/2;7*pi/4]\n"
     ]
    }
   ],
   "source": [
    "x_diff_y_null = sorted(solveset(diff(y,x),x,domain=Interval(0,2*pi)))\n",
    "delt_list = []\n",
    "for i in range (0,len(x_diff_y_null)):\n",
    "    delt = simplify(x_diff_y_null[i]-x_diff_y_null[i-1])\n",
    "    delt_list.append(delt)\n",
    "delta = min(delt_list)/10\n",
    "\n",
    "for i in range (0,len(x_diff_y_null)):\n",
    "    if y.subs(x,x_diff_y_null[i])>y.subs(x,x_diff_y_null[i]+delta):\n",
    "        print (f'Функция возрастает на отрезке: [{simplify( x_diff_y_null[i-1])};{simplify (x_diff_y_null[i])}]')"
   ]
  },
  {
   "cell_type": "markdown",
   "metadata": {},
   "source": [
    "***3. Найти интервалы, на которых функция убывает***"
   ]
  },
  {
   "cell_type": "code",
   "execution_count": 20,
   "metadata": {},
   "outputs": [
    {
     "name": "stdout",
     "output_type": "stream",
     "text": [
      "Функция убывает на отрезке: [atan(1/tan(atan(sqrt(17)/8 + 9/8)/2));3*pi/4]\n",
      "Функция убывает на отрезке: [pi - atan(9/8 - sqrt(17)/8)/2;-atan(sqrt(17)/8 + 9/8)/2 + 3*pi/2]\n",
      "Функция убывает на отрезке: [7*pi/4;-atan(9/8 - sqrt(17)/8)/2 + 2*pi]\n"
     ]
    }
   ],
   "source": [
    "for i in range (0,len(x_diff_y_null)):\n",
    "    if y.subs(x,x_diff_y_null[i])<y.subs(x,x_diff_y_null[i]+delta):\n",
    "        print (f'Функция убывает на отрезке: [{simplify( x_diff_y_null[i-1])};{simplify (x_diff_y_null[i])}]')"
   ]
  },
  {
   "cell_type": "markdown",
   "metadata": {},
   "source": [
    "***4. Построить график (период)***\n"
   ]
  },
  {
   "cell_type": "code",
   "execution_count": 21,
   "metadata": {},
   "outputs": [
    {
     "data": {
      "image/png": "[encoded data removed]",
      "text/plain": [
       "<Figure size 640x480 with 1 Axes>"
      ]
     },
     "metadata": {},
     "output_type": "display_data"
    },
    {
     "data": {
      "text/plain": [
       "<sympy.plotting.plot.Plot at 0x5232328>"
      ]
     },
     "execution_count": 21,
     "metadata": {},
     "output_type": "execute_result"
    }
   ],
   "source": [
    "plot (y,(x,0,2*pi))"
   ]
  },
  {
   "cell_type": "markdown",
   "metadata": {},
   "source": [
    "***5. Вычислить вершину***"
   ]
  },
  {
   "cell_type": "code",
   "execution_count": 30,
   "metadata": {},
   "outputs": [
    {
     "name": "stdout",
     "output_type": "stream",
     "text": [
      "Координаты вершины уравнения: \n",
      "х =atan(1/tan(atan(sqrt(17)/8 + 9/8)/2)), \n",
      "y = sin(pi/4 + atan(1/tan(atan(sqrt(17)/8 + 9/8)/2)))**2/(2*sqrt(1 + tan(atan(sqrt(17)/8 + 9/8)/2)**(-2))*tan(atan(sqrt(17)/8 + 9/8)/2))\n"
     ]
    }
   ],
   "source": [
    "point = solveset(diff(y,x),x,domain=Interval(0,2*pi))\n",
    "point = list(point)\n",
    "x_max=simplify(point[0])\n",
    "y_max = y.subs(x,simplify(point[0]))\n",
    "for data in point[1:]:\n",
    "    temp_y_max=y.subs(x,simplify(data))\n",
    "    if temp_y_max > y_max:\n",
    "        x_max = simplify(data)\n",
    "        y_max = temp_y_max\n",
    "print (f'Координаты вершины уравнения: \\nх ={x_max}, \\ny = {y_max}')\n"
   ]
  },
  {
   "cell_type": "markdown",
   "metadata": {},
   "source": [
    "***6. Определить промежутки, на котором f > 0***"
   ]
  },
  {
   "cell_type": "code",
   "execution_count": 43,
   "metadata": {},
   "outputs": [
    {
     "name": "stdout",
     "output_type": "stream",
     "text": [
      " Промежутки, на которых функция больше 0:\n"
     ]
    },
    {
     "data": {
      "text/latex": [
       "$\\displaystyle \\left(0, \\frac{3 \\pi}{4}\\right) \\cup \\left(\\frac{3 \\pi}{4}, \\pi\\right)$"
      ],
      "text/plain": [
       "Union(Interval.open(0, 3*pi/4), Interval.open(3*pi/4, pi))"
      ]
     },
     "execution_count": 43,
     "metadata": {},
     "output_type": "execute_result"
    }
   ],
   "source": [
    "interval=solve_univariate_inequality(y>0, x,relational=False, domain= Interval (0, 2*pi))\n",
    "print (' Промежутки, на которых функция больше 0:')\n",
    "interval"
   ]
  },
  {
   "cell_type": "markdown",
   "metadata": {},
   "source": [
    "***7. Определить промежутки, на котором f < 0***"
   ]
  },
  {
   "cell_type": "code",
   "execution_count": 45,
   "metadata": {},
   "outputs": [
    {
     "name": "stdout",
     "output_type": "stream",
     "text": [
      " Промежутки, на которых функция меньше 0:\n"
     ]
    },
    {
     "data": {
      "text/latex": [
       "$\\displaystyle \\left(\\pi, \\frac{7 \\pi}{4}\\right) \\cup \\left(\\frac{7 \\pi}{4}, 2 \\pi\\right)$"
      ],
      "text/plain": [
       "Union(Interval.open(pi, 7*pi/4), Interval.open(7*pi/4, 2*pi))"
      ]
     },
     "execution_count": 45,
     "metadata": {},
     "output_type": "execute_result"
    }
   ],
   "source": [
    "interval=solve_univariate_inequality(y<0, x,relational=False, domain= Interval (0, 2*pi))\n",
    "print (' Промежутки, на которых функция меньше 0:')\n",
    "interval"
   ]
  }
 ],
 "metadata": {
  "kernelspec": {
   "display_name": "Python 3.8.10 32-bit",
   "language": "python",
   "name": "python3"
  },
  "language_info": {
   "codemirror_mode": {
    "name": "ipython",
    "version": 3
   },
   "file_extension": ".py",
   "mimetype": "text/x-python",
   "name": "python",
   "nbconvert_exporter": "python",
   "pygments_lexer": "ipython3",
   "version": "3.8.10"
  },
  "orig_nbformat": 4,
  "vscode": {
   "interpreter": {
    "hash": "5b90ebcfea53565125d46c409b13afaabef41ddb89445afcd0999e54926333cd"
   }
  }
 },
 "nbformat": 4,
 "nbformat_minor": 2
}
